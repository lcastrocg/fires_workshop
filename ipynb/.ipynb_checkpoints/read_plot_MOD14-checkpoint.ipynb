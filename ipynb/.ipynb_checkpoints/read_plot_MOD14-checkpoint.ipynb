{
 "cells": [
  {
   "cell_type": "code",
   "execution_count": 1,
   "metadata": {
    "collapsed": true
   },
   "outputs": [],
   "source": [
    "#\n",
    "# Purpose: to illustrate how to use netCDF4 methods built\n",
    "#          in Python to get the information of fires from \n",
    "#          an HDF4 file and generate a plot \n",
    "\n",
    "# Date  :  July. 07, 2017\n",
    "\n",
    "import numpy as np\n",
    "from netCDF4 import Dataset\n",
    "import os\n",
    "import math\n",
    "import matplotlib.pyplot as plt\n",
    "from mpl_toolkits.basemap import Basemap\n",
    "\n",
    "\n",
    "#\n",
    "# Read HDF data files for get Fire and Thermal Anomalies and Geolocation information\n",
    "#\n",
    "dir_data    = '../Data/'\n",
    "hdf_file    = 'MOD14.A2017001.1655.006.2017004111822.hdf'\n",
    "hdf_geofile = 'MOD03.A2017001.1655.006.2017003202340.hdf'"
   ]
  },
  {
   "cell_type": "code",
   "execution_count": 2,
   "metadata": {
    "collapsed": true
   },
   "outputs": [],
   "source": [
    "sd     = Dataset(dir_data+hdf_file)\n",
    "sd_geo = Dataset(dir_data+hdf_geofile)"
   ]
  },
  {
   "cell_type": "code",
   "execution_count": 3,
   "metadata": {
    "collapsed": true
   },
   "outputs": [],
   "source": [
    "#\n",
    "# Retrieving the SDS we’re interested on\n",
    "#\n",
    "fire      = sd.variables['fire mask']\n",
    "sds_lon   = sd_geo.variables['Longitude']\n",
    "sds_lat   = sd_geo.variables['Latitude']"
   ]
  },
  {
   "cell_type": "code",
   "execution_count": 4,
   "metadata": {
    "collapsed": true
   },
   "outputs": [],
   "source": [
    "#\n",
    "# obtaining max and min values from lat and lon\n",
    "#\n",
    "latmin = math.ceil(np.min(sds_lat))\n",
    "latmax = math.ceil(np.max(sds_lat))\n",
    "lonmin = math.ceil(np.min(sds_lon))\n",
    "lonmax = math.ceil(np.max(sds_lon))"
   ]
  },
  {
   "cell_type": "code",
   "execution_count": 5,
   "metadata": {},
   "outputs": [
    {
     "name": "stderr",
     "output_type": "stream",
     "text": [
      "/Users/lcastrogarcia/anaconda3/lib/python3.6/site-packages/mpl_toolkits/basemap/__init__.py:3413: MatplotlibDeprecationWarning: The ishold function was deprecated in version 2.0.\n",
      "  b = ax.ishold()\n",
      "/Users/lcastrogarcia/anaconda3/lib/python3.6/site-packages/mpl_toolkits/basemap/__init__.py:3422: MatplotlibDeprecationWarning: axes.hold is deprecated.\n",
      "    See the API Changes document (http://matplotlib.org/api/api_changes.html)\n",
      "    for more details.\n",
      "  ax.hold(b)\n"
     ]
    },
    {
     "data": {
      "image/png": "[encoded data removed]",
      "text/plain": [
       "<matplotlib.figure.Figure at 0x110b5ab38>"
      ]
     },
     "metadata": {},
     "output_type": "display_data"
    }
   ],
   "source": [
    "#\n",
    "# creating geo-map and saving it\n",
    "#\n",
    "m = Basemap(projection='cyl',llcrnrlat=latmin,urcrnrlat=latmax,\\\n",
    "            llcrnrlon=lonmin,urcrnrlon=lonmax,lat_ts=10,resolution='l')\n",
    "m.pcolormesh(sds_lon, sds_lat, fire, cmap=plt.cm.jet, latlon=True)\n",
    "\n",
    "# setting plot\n",
    "parales = np.arange(math.ceil(latmin),math.ceil(latmax),6)\n",
    "medirians = np.arange(math.ceil(lonmin),math.ceil(lonmax),8)\n",
    "\n",
    "m.drawparallels(parales, labels=[1,0,0,0],linewidth=0.01,labelstyle=\"N/S\",fontsize=12)\n",
    "m.drawmeridians(medirians,labels=[0,0,0,1],linewidth=0.01,labelstyle=\"E/w\",fontsize=12)\n",
    "cb=m.colorbar()\n",
    "plt.title('Fire mask from MOD14 product')\n",
    "\n",
    "# save plot\n",
    "plt.savefig('fire_mask.png', dpi=300)\n",
    "plt.show()\n",
    "\n"
   ]
  },
  {
   "cell_type": "code",
   "execution_count": null,
   "metadata": {
    "collapsed": true
   },
   "outputs": [],
   "source": []
  }
 ],
 "metadata": {
  "kernelspec": {
   "display_name": "Python 3",
   "language": "python",
   "name": "python3"
  },
  "language_info": {
   "codemirror_mode": {
    "name": "ipython",
    "version": 3
   },
   "file_extension": ".py",
   "mimetype": "text/x-python",
   "name": "python",
   "nbconvert_exporter": "python",
   "pygments_lexer": "ipython3",
   "version": "3.6.1"
  }
 },
 "nbformat": 4,
 "nbformat_minor": 2
}
